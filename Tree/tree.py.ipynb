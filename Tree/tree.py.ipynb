{
 "cells": [
  {
   "cell_type": "markdown",
   "metadata": {},
   "source": [
    "This program is an equivalent to the windows/linux command tree. It shows all (!) subdirectories from the given one. There are three optional parameters:\n",
    "-dir PATH  (uses this path instead of ./)\n",
    "-showfiles (also shows all files in the directories)\n",
    "-runtime   (limits the maximal runtime in seconds, as the program can hardly be cancelled by Ctrl+C, standard is 86400, one day)"
   ]
  },
  {
   "cell_type": "code",
   "execution_count": null,
   "metadata": {
    "collapsed": true
   },
   "outputs": [],
   "source": [
    "#!/usr/bin/env python"
   ]
  },
  {
   "cell_type": "markdown",
   "metadata": {},
   "source": [
    "Defines Environment PYTHON"
   ]
  },
  {
   "cell_type": "code",
   "execution_count": null,
   "metadata": {
    "collapsed": true
   },
   "outputs": [],
   "source": [
    "import os, argparse, time, sys"
   ]
  },
  {
   "cell_type": "markdown",
   "metadata": {},
   "source": [
    "Imports Os and Sys for basic operations, time and argparse for convinience"
   ]
  },
  {
   "cell_type": "code",
   "execution_count": null,
   "metadata": {
    "collapsed": true
   },
   "outputs": [],
   "source": [
    "parser=argparse.ArgumentParser()\n",
    "parser.add_argument('-dir', default='./', type=str, help='give path for tree')\n",
    "parser.add_argument('-showfiles', action='store_true', default=False, help='display files')\n",
    "parser.add_argument('-runtime', type=float, default=86400., help='maximal runtime, default is one day')\n",
    "args=parser.parse_args()\n",
    "start=args.dir\n",
    "showfiles=args.showfiles\n",
    "mrt=args.runtime"
   ]
  },
  {
   "cell_type": "markdown",
   "metadata": {},
   "source": [
    "Initialisation:\n",
    "start can be set with -dir PATH\n",
    "showfiles is either false if -showfiles is not given or true if given\n",
    "mrt is the maximal runtime in seconds"
   ]
  },
  {
   "cell_type": "code",
   "execution_count": null,
   "metadata": {
    "collapsed": true
   },
   "outputs": [],
   "source": [
    "indentcounter=0\n",
    "def list_dir1(direc, indentcounter, showfiles, starttime,  mrt):\n",
    "    if indentcounter==0: tabs=''\n",
    "    else: tabs='\\t'*(indentcounter-1)+'|______ '\n",
    "    if os.listdir(direc)==[]:\n",
    "        if showfiles: print tabs+'empty'\n",
    "    else:\n",
    "        for el in sorted(os.listdir(direc)):\n",
    "            if os.path.isfile(direc+el):\n",
    "                if showfiles: print tabs+el\n",
    "            else:\n",
    "                print tabs+el+':'\n",
    "                try:\n",
    "                    if time.time()-starttime>mrt:\n",
    "                        raise RuntimeError\n",
    "                    else:\n",
    "                        list_dir2(direc+el+'/', indentcounter+1, showfiles, starttime, mrt)\n",
    "                except:\n",
    "                    pass"
   ]
  },
  {
   "cell_type": "markdown",
   "metadata": {},
   "source": [
    "list_dir1\n",
    "Go through all things in the directory, if sth is not a file (ergo a directory) we call list_dir2 on this directory"
   ]
  },
  {
   "cell_type": "code",
   "execution_count": null,
   "metadata": {
    "collapsed": true
   },
   "outputs": [],
   "source": [
    "# to avoid self iterations change list_dir1(direc+el+'/', indentcounter+1, showfiles) to list_dir2(direc+el+'/', indentcounter+1, showfiles, starttime, mrt)\n",
    "\n",
    "def list_dir2(direc_2, indentcounter_2, showfiles_2,starttime, mrt):\n",
    "    if indentcounter_2==0: tabs_2=''\n",
    "    else: tabs_2='\\t'*(indentcounter_2-1)+'|______ '\n",
    "    if os.listdir(direc_2)==[]:\n",
    "        if showfiles_2: print tabs_2+'empty'\n",
    "    else:\n",
    "        for le in sorted(os.listdir(direc_2)):\n",
    "            if os.path.isfile(direc_2+le):\n",
    "                if showfiles_2: print tabs_2+le\n",
    "            else:\n",
    "                print tabs_2+le+':'\n",
    "                try:\n",
    "                    if time.time()-starttime>mrt: \n",
    "                        raise RuntimeError\n",
    "                    else:\n",
    "                        list_dir1(direc_2+le+'/', indentcounter_2+1, showfiles_2, starttime, mrt)\n",
    "                except:\n",
    "                    pass"
   ]
  },
  {
   "cell_type": "markdown",
   "metadata": {},
   "source": [
    "list_dir2\n",
    "Does the exact same thing as list_dir1, but avoids calling list_dir1 inside list_dir1 (self iterations)"
   ]
  },
  {
   "cell_type": "code",
   "execution_count": null,
   "metadata": {
    "collapsed": true
   },
   "outputs": [],
   "source": [
    "try:\n",
    "    starttime=time.time()\n",
    "    list_dir1(start, indentcounter, showfiles, starttime, mrt)\n",
    "except RuntimeError:\n",
    "    print 'Too many iterations, out of memory'"
   ]
  },
  {
   "cell_type": "markdown",
   "metadata": {},
   "source": [
    "This runs the program (can be set in  if __name__=='__main__':)"
   ]
  }
 ],
 "metadata": {
  "kernelspec": {
   "display_name": "Python 3",
   "language": "python",
   "name": "python3"
  },
  "language_info": {
   "codemirror_mode": {
    "name": "ipython",
    "version": 3
   },
   "file_extension": ".py",
   "mimetype": "text/x-python",
   "name": "python",
   "nbconvert_exporter": "python",
   "pygments_lexer": "ipython3",
   "version": "3.5.1"
  }
 },
 "nbformat": 4,
 "nbformat_minor": 0
}
